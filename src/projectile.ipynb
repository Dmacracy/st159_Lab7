{
 "cells": [
  {
   "cell_type": "code",
   "execution_count": 8,
   "metadata": {},
   "outputs": [
    {
     "data": {
      "application/vnd.jupyter.widget-view+json": {
       "model_id": "c8b86e2a101b4ca6b8f15e65cb9ade34",
       "version_major": 2,
       "version_minor": 0
      },
      "text/plain": [
       "interactive(children=(IntSlider(value=0, description='init_pos_x', max=10), IntSlider(value=0, description='in…"
      ]
     },
     "metadata": {},
     "output_type": "display_data"
    }
   ],
   "source": [
    "import numpy as np\n",
    "import matplotlib.pyplot as plt \n",
    "from ipywidgets import interact, interactive\n",
    "\n",
    "@interact(init_vel_x=(0,10, 1), \n",
    "          init_vel_y=(0,10, 1), \n",
    "          init_pos_x=(0,10, 1),\n",
    "          init_pos_y=(0,10, 1),\n",
    "          timestep=(0.0001, 1, 0.1))\n",
    "def plot_projectile_motion(init_pos_x=0, init_pos_y=0, \n",
    "                           init_vel_x=10, init_vel_y=10, \n",
    "                           g=-9.8, time=5, timestep=0.001):\n",
    "    '''\n",
    "   This function will plot the motion of a projectile in 2D space under the influence of gravity.\n",
    "   Arguments:\n",
    "      - init_pos: tuple representing the particle's initial position (inital x position, initial y position)\n",
    "      - init_vel: tuple representing the particle's initial velocity (inital x velocity, initial y velocity)\n",
    "      - g: gravitational acceleartion (assumed in the y direction, in meters per second squared)\n",
    "      - time: total time to plot (in seconds)\n",
    "      - timestep: size of timestep to use (default is 1 millisecond)\n",
    "   Return values:\n",
    "      - x, y: numpy arrays of the x and y position as a function of time with an entry for each time step in the \n",
    "              whole time interval.\n",
    "   '''\n",
    "    x0 = init_pos_x\n",
    "    y0 = init_pos_y\n",
    "    vel_x0 = init_vel_x\n",
    "    vel_y0 = init_vel_y\n",
    "\n",
    "    xs = []\n",
    "    ys = []\n",
    "    t = 0\n",
    "    while t < time:\n",
    "        x = x0 + vel_x0 * t\n",
    "        # We don't let y get below 0, so take max of simulated value and 0.\n",
    "        y = max(y0 + vel_y0 * t + 0.5 * g * t**2, 0)\n",
    "        xs.append(x)\n",
    "        ys.append(y)\n",
    "        t += timestep # increment timestep\n",
    "\n",
    "    plt.plot(xs, ys, \"r-\")\n",
    "    plt.title('Projectile Trajectory')\n",
    "    plt.xlabel('x position (meters)')\n",
    "    plt.ylabel('y position (meters)')\n",
    "    plt.show()\n",
    "    return xs, ys"
   ]
  },
  {
   "cell_type": "code",
   "execution_count": null,
   "metadata": {},
   "outputs": [],
   "source": []
  }
 ],
 "metadata": {
  "kernelspec": {
   "display_name": "Python 3",
   "language": "python",
   "name": "python3"
  },
  "language_info": {
   "codemirror_mode": {
    "name": "ipython",
    "version": 3
   },
   "file_extension": ".py",
   "mimetype": "text/x-python",
   "name": "python",
   "nbconvert_exporter": "python",
   "pygments_lexer": "ipython3",
   "version": "3.8.5"
  }
 },
 "nbformat": 4,
 "nbformat_minor": 4
}
